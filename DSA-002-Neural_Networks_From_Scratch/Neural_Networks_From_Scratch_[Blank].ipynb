{
  "nbformat": 4,
  "nbformat_minor": 0,
  "metadata": {
    "colab": {
      "provenance": []
    },
    "kernelspec": {
      "name": "python3",
      "display_name": "Python 3"
    },
    "language_info": {
      "name": "python"
    }
  },
  "cells": [
    {
      "cell_type": "code",
      "source": [
        "# ─── Cell 1: Install only Gradio & verify existing packages ───────────────────────\n",
        "# Colab already includes numpy, pandas, matplotlib, pillow, and tensorflow,\n",
        "# so we only need to install Gradio.\n",
        "!pip install gradio==3.36.0 --quiet\n",
        "\n",
        "# Verify versions of all key libraries\n",
        "import numpy as np, pandas as pd, matplotlib, PIL, tensorflow as tf, gradio\n",
        "print(f\"▶ numpy      {np.__version__}\")\n",
        "print(f\"▶ pandas     {pd.__version__}\")\n",
        "print(f\"▶ matplotlib {matplotlib.__version__}\")\n",
        "print(f\"▶ Pillow     {PIL.__version__}\")\n",
        "print(f\"▶ tensorflow {tf.__version__}\")\n",
        "print(f\"▶ gradio     {gradio.__version__}\")\n"
      ],
      "metadata": {
        "id": "vLiP2gxSgcRO"
      },
      "execution_count": null,
      "outputs": []
    },
    {
      "cell_type": "code",
      "source": [
        "# ─── Cell 2 (UPDATED): Imports, Seeding & Label Names ───────────────────────────\n",
        "import numpy as np\n",
        "import pandas as pd\n",
        "import tensorflow as tf\n",
        "import matplotlib.pyplot as plt\n",
        "from PIL import Image, ImageDraw\n",
        "import gradio as gr\n",
        "import random\n",
        "from tensorflow.keras.models import load_model\n",
        "\n",
        "# Set random seeds for reproducibility\n",
        "SEED = 42\n",
        "np.random.seed(SEED)\n",
        "tf.random.set_seed(SEED)\n",
        "random.seed(SEED)\n",
        "\n",
        "# User-friendly class names for FashionMNIST labels 0–9\n",
        "LABEL_NAMES = [\n",
        "    \"T-shirt/top\",\n",
        "    \"Trouser\",\n",
        "    \"Pullover\",\n",
        "    \"Dress\",\n",
        "    \"Coat\",\n",
        "    \"Sandal\",\n",
        "    \"Shirt\",\n",
        "    \"Sneaker\",\n",
        "    \"Bag\",\n",
        "    \"Ankle boot\",\n",
        "]\n",
        "\n",
        "print(f\"▶ Random seed set to {SEED}\")\n",
        "print(\"▶ Label mapping:\", {i: name for i, name in enumerate(LABEL_NAMES)})\n"
      ],
      "metadata": {
        "id": "KbDZTOg9ahpT"
      },
      "execution_count": null,
      "outputs": []
    }
  ]
}